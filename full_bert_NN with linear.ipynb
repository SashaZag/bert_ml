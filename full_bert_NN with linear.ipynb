{
  "cells": [
    {
      "cell_type": "code",
      "execution_count": 1,
      "id": "1718f5a7-757c-4ba4-9336-ccca8690fb21",
      "metadata": {
        "id": "1718f5a7-757c-4ba4-9336-ccca8690fb21"
      },
      "outputs": [],
      "source": [
        "import pandas as pd\n",
        "\n",
        "from sklearn.linear_model import LinearRegression\n",
        "from sklearn.model_selection import train_test_split\n",
        "import sklearn.metrics as metrics\n",
        "from sklearn import preprocessing\n",
        "\n",
        "import re\n",
        "import numpy as np\n",
        "import transformers as transform\n",
        "import torch\n",
        "from torch.nn.functional import softmax, normalize\n",
        "\n",
        "from torch.utils.data import DataLoader, TensorDataset, Dataset"
      ]
    },
    {
      "cell_type": "code",
      "execution_count": 2,
      "id": "aJlmoB8ycBf4",
      "metadata": {
        "colab": {
          "base_uri": "https://localhost:8080/"
        },
        "id": "aJlmoB8ycBf4",
        "outputId": "9a5a008a-fe4e-4154-9462-8189ec8268f9"
      },
      "outputs": [
        {
          "output_type": "stream",
          "name": "stdout",
          "text": [
            "Drive already mounted at /MyDrive; to attempt to forcibly remount, call drive.mount(\"/MyDrive\", force_remount=True).\n"
          ]
        }
      ],
      "source": [
        "from google.colab import drive\n",
        "drive.mount('/MyDrive')"
      ]
    },
    {
      "cell_type": "code",
      "execution_count": 3,
      "id": "d2f194ce-bbb0-4038-8305-c86578cd3db8",
      "metadata": {
        "id": "d2f194ce-bbb0-4038-8305-c86578cd3db8"
      },
      "outputs": [],
      "source": [
        "class Bert_Regression:\n",
        "\n",
        "    model_class = transform.DistilBertForSequenceClassification\n",
        "\n",
        "    tokenizer_class = transform.DistilBertTokenizerFast\n",
        "\n",
        "    pretrained_weights = 'distilbert-base-uncased'\n",
        "    tokenizer = 0\n",
        "    model = 0\n",
        "\n",
        "    def initilize_tokenizer(self):\n",
        "        self.tokenizer = self.tokenizer_class.from_pretrained(self.pretrained_weights)\n",
        "\n",
        "        return self.tokenizer\n",
        "\n",
        "    def initilize_model(self):\n",
        "        self.model = self.model_class.from_pretrained(self.pretrained_weights, num_labels=10, max_position_embeddings=512)\n",
        "\n",
        "\n",
        "        return self.model\n",
        "\n",
        "    def clear_model_and_tokenizer(self):\n",
        "        self.tokenizer = None\n",
        "        self.model = None\n",
        "\n",
        "    def get_reviewer_data(self, reviewer_names):\n",
        "\n",
        "        reviewer_ids = pd.DataFrame(columns=['ids'])\n",
        "        reviewer_ratings = pd.DataFrame(columns=['ratings'])\n",
        "\n",
        "        reviewer_file_ids = ['../MyDrive/MyDrive/scaledata/'+reviewer_name+'/id.'+reviewer_name for reviewer_name in reviewer_names]\n",
        "        reviewer_file_ratings = ['../MyDrive/MyDrive/scaledata/'+reviewer_name+'/rating.'+reviewer_name for reviewer_name in reviewer_names]\n",
        "        reviews_folder = ['../MyDrive/MyDrive/scale_whole_review/'+reviewer_name+'/txt.parag' for reviewer_name in reviewer_names]\n",
        "\n",
        "        count = 0\n",
        "\n",
        "        for reviewer_id in reviewer_file_ids:\n",
        "            print(reviewer_file_ids)\n",
        "            id_rating = pd.read_csv(reviewer_id, names = ['ids'])\n",
        "            id_rating['full_review'] = ''\n",
        "\n",
        "            for id in id_rating['ids']:\n",
        "                path = reviews_folder[count]+'/'+str(id)+'.txt'\n",
        "                f = open(path, 'r', encoding='cp1252')\n",
        "                text = f.read()\n",
        "                text = re.sub(r'[^\\w]', ' ', text)\n",
        "                text = re.sub(\"\\d+\", \"\", text)\n",
        "                text = text.lower()\n",
        "                id_rating.loc[id_rating['ids'] == id, 'full_review'] = text\n",
        "                # id_rating.loc[id == dennis_fulls, 'full_review'] = text\n",
        "                # print(id_rating)\n",
        "                f.close()\n",
        "                # print(path)\n",
        "\n",
        "            reviewer_ids = pd.concat([reviewer_ids, id_rating], axis=0)\n",
        "            count = count + 1\n",
        "\n",
        "        for reviewer_rating in reviewer_file_ratings:\n",
        "            # print(reviewer_id)\n",
        "            id_rating = pd.read_csv(reviewer_rating, names = ['ratings'])#.round()\n",
        "\n",
        "            reviewer_ratings = pd.concat([reviewer_ratings, id_rating], axis=0)\n",
        "            # print(reviewer_ratings)\n",
        "\n",
        "\n",
        "        reviewer_ids.reset_index(drop=True, inplace=True)\n",
        "        reviewer_ratings.reset_index(drop=True, inplace=True)\n",
        "\n",
        "        reviewer_data = pd.concat([reviewer_ids, reviewer_ratings], axis=1)\n",
        "\n",
        "\n",
        "        return reviewer_data\n",
        "\n",
        "    def align_data(self, tokenized):\n",
        "        max_length = max([len(i) for i in tokenized])\n",
        "\n",
        "        features = pd.DataFrame(columns=range(max_length))\n",
        "\n",
        "        for i in range(len(tokenized)):\n",
        "            # features = features.append(pd.DataFrame(dennis_full['tokenized_sentences'][i]).transpose())\n",
        "            features = pd.concat([features, pd.DataFrame(tokenized[i]).transpose()])\n",
        "            # features = features.shift(-1)\n",
        "            # features.iloc[-1, :] = features.append(pd.DataFrame(dennis_full['tokenized_sentences'][i]).transpose())\n",
        "        features.reset_index(drop=True, inplace=True)\n",
        "\n",
        "        return features\n"
      ]
    },
    {
      "cell_type": "code",
      "source": [
        "class ExtendedBertClassification(torch.nn.Module):\n",
        "    def __init__(self, BertModel):\n",
        "        super(ExtendedBertClassification, self).__init__()\n",
        "        self.bert_model = BertModel.initilize_model()\n",
        "        self.linear = torch.nn.Linear(10, 1)\n",
        "\n",
        "    def calculate(self, input_ids = None, attention_mask = None):\n",
        "        logits = 0\n",
        "        multiplier = 0\n",
        "        for multiplier in range(7):\n",
        "\n",
        "            val1 = torch.tensor(input_ids[0][multiplier*512:(multiplier+1)*512])\n",
        "            val1 = val1.clone().detach().unsqueeze(dim=0)\n",
        "            val2 = torch.tensor(attention_mask[0][multiplier*512:(multiplier+1)*512])\n",
        "            val2 = val2.clone().detach().unsqueeze(dim=0)\n",
        "\n",
        "            outputs = self.bert_model(val1, val2)\n",
        "\n",
        "            logits = logits + outputs.logits\n",
        "        logits = logits/6\n",
        "        print(logits)\n",
        "        return logits\n",
        "\n",
        "    def forward(self, input_ids, attention_mask):\n",
        "        output = self.calculate(input_ids, attention_mask)\n",
        "        output = self.linear(output[0])\n",
        "        return output\n",
        "\n"
      ],
      "metadata": {
        "id": "MA2z7X4rpfM2"
      },
      "id": "MA2z7X4rpfM2",
      "execution_count": 4,
      "outputs": []
    },
    {
      "cell_type": "code",
      "execution_count": 5,
      "id": "X7Z62M8eTXo3",
      "metadata": {
        "id": "X7Z62M8eTXo3"
      },
      "outputs": [],
      "source": [
        "class TokenData(Dataset):\n",
        "    def __init__(self, train = False):\n",
        "        if train:\n",
        "            self.text_data = reviewers_data['full_review']\n",
        "            self.tokens = train_tokens\n",
        "            self.labels = list(reviewers_data['ratings'] * 10)\n",
        "        else:\n",
        "            self.text_data = reviewers_test_data['full_review']\n",
        "            self.tokens = test_tokens\n",
        "            self.labels = list(reviewers_test_data['ratings'] * 10)\n",
        "\n",
        "    def __len__(self):\n",
        "        return len(self.text_data)\n",
        "\n",
        "    def __getitem__(self, idx):\n",
        "        sample = {}\n",
        "        for k, v in self.tokens.items():\n",
        "            sample[k] = torch.tensor(v[idx])\n",
        "        sample['labels'] = torch.tensor(self.labels[idx])\n",
        "        return sample"
      ]
    },
    {
      "cell_type": "code",
      "source": [
        "x = Bert_Regression()"
      ],
      "metadata": {
        "id": "ekyoX8lM-CWm"
      },
      "id": "ekyoX8lM-CWm",
      "execution_count": 6,
      "outputs": []
    },
    {
      "cell_type": "code",
      "execution_count": 7,
      "id": "01d360f7-4d13-445a-a5a6-a34163b47dc7",
      "metadata": {
        "colab": {
          "base_uri": "https://localhost:8080/"
        },
        "id": "01d360f7-4d13-445a-a5a6-a34163b47dc7",
        "outputId": "98ea24bf-bb14-471b-b39a-5cd14fe021b8"
      },
      "outputs": [
        {
          "output_type": "stream",
          "name": "stdout",
          "text": [
            "['../MyDrive/MyDrive/scaledata/Dennis+Schwartz/id.Dennis+Schwartz']\n"
          ]
        },
        {
          "output_type": "stream",
          "name": "stderr",
          "text": [
            "/usr/local/lib/python3.10/dist-packages/huggingface_hub/utils/_token.py:89: UserWarning: \n",
            "The secret `HF_TOKEN` does not exist in your Colab secrets.\n",
            "To authenticate with the Hugging Face Hub, create a token in your settings tab (https://huggingface.co/settings/tokens), set it as secret in your Google Colab and restart your session.\n",
            "You will be able to reuse this secret in all of your notebooks.\n",
            "Please note that authentication is recommended but still optional to access public models or datasets.\n",
            "  warnings.warn(\n"
          ]
        }
      ],
      "source": [
        "#Training dataset\n",
        "reviewers_data = x.get_reviewer_data(['Dennis+Schwartz'])\n",
        "#James+Berardinelli Dennis+Schwartz Scott+Renshaw\n",
        "tokenizer = x.initilize_tokenizer()\n",
        "\n",
        "train_tokens = tokenizer(list(reviewers_data['full_review']), padding='max_length', truncation=False, max_length=3210)\n",
        "train_tokens['labels'] = reviewers_data['ratings']"
      ]
    },
    {
      "cell_type": "code",
      "execution_count": null,
      "id": "807bba9a-1871-4082-8cf4-eb1487ce7fa1",
      "metadata": {
        "colab": {
          "base_uri": "https://localhost:8080/"
        },
        "id": "807bba9a-1871-4082-8cf4-eb1487ce7fa1",
        "outputId": "7e2331b4-cd50-4a83-cb97-3640cbeeacd0"
      },
      "outputs": [
        {
          "data": {
            "text/plain": [
              "dict_keys(['input_ids', 'attention_mask', 'labels'])"
            ]
          },
          "execution_count": 7,
          "metadata": {},
          "output_type": "execute_result"
        }
      ],
      "source": [
        "train_tokens.keys()"
      ]
    },
    {
      "cell_type": "code",
      "execution_count": 8,
      "id": "13447756-e5d7-44f0-9ede-40597faad64a",
      "metadata": {
        "id": "13447756-e5d7-44f0-9ede-40597faad64a"
      },
      "outputs": [],
      "source": [
        "#Train data\n",
        "batch_size = 1\n",
        "train_data = TokenData(train = True)\n",
        "train_dataset = DataLoader(train_data, shuffle=True, batch_size=batch_size)"
      ]
    },
    {
      "cell_type": "code",
      "execution_count": 9,
      "id": "b6600d4e-3900-4bb4-ba0b-cc451cc314fb",
      "metadata": {
        "colab": {
          "base_uri": "https://localhost:8080/"
        },
        "id": "b6600d4e-3900-4bb4-ba0b-cc451cc314fb",
        "outputId": "b32c8c0a-f621-4e80-a804-4a3703806def"
      },
      "outputs": [
        {
          "output_type": "stream",
          "name": "stderr",
          "text": [
            "Some weights of DistilBertForSequenceClassification were not initialized from the model checkpoint at distilbert-base-uncased and are newly initialized: ['classifier.bias', 'classifier.weight', 'pre_classifier.bias', 'pre_classifier.weight']\n",
            "You should probably TRAIN this model on a down-stream task to be able to use it for predictions and inference.\n"
          ]
        }
      ],
      "source": [
        "extended_model = ExtendedBertClassification(x)"
      ]
    },
    {
      "cell_type": "code",
      "execution_count": 14,
      "id": "b5a660b2-d257-4e45-8fce-aed4cadd0b4b",
      "metadata": {
        "id": "b5a660b2-d257-4e45-8fce-aed4cadd0b4b"
      },
      "outputs": [],
      "source": [
        "# optim func\n",
        "optimizer = torch.optim.AdamW(extended_model.parameters(), lr=0.01)\n",
        "# loss func\n",
        "loss_fn = torch.nn.MSELoss()"
      ]
    },
    {
      "cell_type": "code",
      "source": [
        "epochs = 3\n",
        "for epoch in range(epochs):\n",
        "    extended_model.train()\n",
        "    for i, values in enumerate(train_dataset):\n",
        "        optimizer.zero_grad()\n",
        "\n",
        "        outputs = extended_model(values['input_ids'], values['attention_mask'])\n",
        "\n",
        "        actual_y = torch.tensor(values['labels'])#.type(torch.long)\n",
        "        print(outputs, actual_y)\n",
        "        # break\n",
        "        loss = loss_fn(outputs, actual_y)\n",
        "\n",
        "        print(loss.item())\n",
        "\n",
        "        loss.backward()\n",
        "\n",
        "        optimizer.step()\n",
        "\n",
        "        train_batch_loss = loss.item()\n",
        "        train_last_loss = train_batch_loss / batch_size\n",
        "\n",
        "\n",
        "        print('Training batch {} last loss: {}'.format(i + 1, train_last_loss))\n"
      ],
      "metadata": {
        "colab": {
          "base_uri": "https://localhost:8080/"
        },
        "id": "2-OSFpVDBdHN",
        "outputId": "2d730732-02c9-44e3-cffc-c84aaa1f9065"
      },
      "id": "2-OSFpVDBdHN",
      "execution_count": null,
      "outputs": [
        {
          "output_type": "stream",
          "name": "stderr",
          "text": [
            "<ipython-input-4-f6e4d45c11f9>:12: UserWarning: To copy construct from a tensor, it is recommended to use sourceTensor.clone().detach() or sourceTensor.clone().detach().requires_grad_(True), rather than torch.tensor(sourceTensor).\n",
            "  val1 = torch.tensor(input_ids[0][multiplier*512:(multiplier+1)*512])\n",
            "<ipython-input-4-f6e4d45c11f9>:14: UserWarning: To copy construct from a tensor, it is recommended to use sourceTensor.clone().detach() or sourceTensor.clone().detach().requires_grad_(True), rather than torch.tensor(sourceTensor).\n",
            "  val2 = torch.tensor(attention_mask[0][multiplier*512:(multiplier+1)*512])\n"
          ]
        },
        {
          "output_type": "stream",
          "name": "stdout",
          "text": [
            "tensor([[ 0.0422, -0.0107, -0.0267,  0.0447, -0.0900,  0.0035,  0.0667,  0.0810,\n",
            "         -0.0132,  0.0475]], grad_fn=<DivBackward0>)\n",
            "tensor([-0.2096], grad_fn=<ViewBackward0>) tensor([8.])\n",
            "67.39743041992188\n"
          ]
        },
        {
          "output_type": "stream",
          "name": "stderr",
          "text": [
            "<ipython-input-15-258c3db1e57a>:9: UserWarning: To copy construct from a tensor, it is recommended to use sourceTensor.clone().detach() or sourceTensor.clone().detach().requires_grad_(True), rather than torch.tensor(sourceTensor).\n",
            "  actual_y = torch.tensor(values['labels'])#.type(torch.long)\n"
          ]
        },
        {
          "output_type": "stream",
          "name": "stdout",
          "text": [
            "Training batch 1 last loss: 67.39743041992188\n",
            "tensor([[-1.7003,  1.7092, -1.9510,  1.6078, -2.0400,  1.5909,  1.5461, -1.6378,\n",
            "          1.3644, -1.9296]], grad_fn=<DivBackward0>)\n",
            "tensor([2.6875], grad_fn=<ViewBackward0>) tensor([3.])\n",
            "0.09767696261405945\n",
            "Training batch 2 last loss: 0.09767696261405945\n",
            "tensor([[-6.6028,  7.1291, -8.5957, 10.1704, -8.9188,  8.8199, 10.0750, -7.8438,\n",
            "          9.2166, -6.1983]], grad_fn=<DivBackward0>)\n",
            "tensor([12.9122], grad_fn=<ViewBackward0>) tensor([6.])\n",
            "47.77908706665039\n",
            "Training batch 3 last loss: 47.77908706665039\n",
            "tensor([[-4.2069,  4.7402, -5.3422,  4.0098, -5.1028,  4.0225,  4.4544, -5.0994,\n",
            "          4.9008, -5.2131]], grad_fn=<DivBackward0>)\n",
            "tensor([7.6752], grad_fn=<ViewBackward0>) tensor([6.])\n",
            "2.8062615394592285\n",
            "Training batch 4 last loss: 2.8062615394592285\n",
            "tensor([[ 4.3024, -3.5990,  2.7860, -2.0767,  2.5674, -3.0249, -1.9349,  3.2474,\n",
            "         -1.6545,  4.0725]], grad_fn=<DivBackward0>)\n",
            "tensor([-5.3355], grad_fn=<ViewBackward0>) tensor([5.])\n",
            "106.82266998291016\n",
            "Training batch 5 last loss: 106.82266998291016\n",
            "tensor([[ 2.3034e+00, -1.7646e+00,  6.4253e-01, -7.6305e-01,  1.0639e+00,\n",
            "         -1.2137e+00, -8.1154e-01,  1.3090e+00,  1.9494e-03,  1.8800e+00]],\n",
            "       grad_fn=<DivBackward0>)\n",
            "tensor([-2.2772], grad_fn=<ViewBackward0>) tensor([4.])\n",
            "39.40309143066406\n",
            "Training batch 6 last loss: 39.40309143066406\n",
            "tensor([[ 0.0977,  0.1983, -1.0851,  0.2228, -0.2749,  0.7159,  0.1730, -0.3051,\n",
            "          0.9483,  0.2586]], grad_fn=<DivBackward0>)\n",
            "tensor([0.2537], grad_fn=<ViewBackward0>) tensor([5.])\n",
            "22.527597427368164\n",
            "Training batch 7 last loss: 22.527597427368164\n",
            "tensor([[-1.4489,  2.1473, -2.7441,  1.3817, -1.2348,  1.9318,  1.2189, -1.7660,\n",
            "          2.1435, -1.2421]], grad_fn=<DivBackward0>)\n",
            "tensor([2.2984], grad_fn=<ViewBackward0>) tensor([5.])\n",
            "7.298849105834961\n",
            "Training batch 8 last loss: 7.298849105834961\n",
            "tensor([[-3.2988,  4.0852, -3.9001,  2.4763, -2.3995,  2.9977,  2.2886, -3.2327,\n",
            "          3.0749, -2.6430]], grad_fn=<DivBackward0>)\n",
            "tensor([4.1562], grad_fn=<ViewBackward0>) tensor([5.])\n",
            "0.7119188904762268\n",
            "Training batch 9 last loss: 0.7119188904762268\n",
            "tensor([[-5.2613,  5.7031, -5.8044,  3.7578, -3.8469,  4.7538,  3.4254, -4.9565,\n",
            "          5.0102, -4.3737]], grad_fn=<DivBackward0>)\n",
            "tensor([6.2975], grad_fn=<ViewBackward0>) tensor([5.])\n",
            "1.6834323406219482\n",
            "Training batch 10 last loss: 1.6834323406219482\n",
            "tensor([[-7.3181,  7.8250, -7.9346,  5.8504, -5.2645,  6.5948,  5.6317, -6.8861,\n",
            "          6.6110, -6.1838]], grad_fn=<DivBackward0>)\n",
            "tensor([8.5112], grad_fn=<ViewBackward0>) tensor([7.])\n",
            "2.2838377952575684\n",
            "Training batch 11 last loss: 2.2838377952575684\n",
            "tensor([[-6.8663,  7.7103, -7.7581,  6.0523, -5.4438,  6.1169,  5.3567, -6.6170,\n",
            "          6.3528, -6.2662]], grad_fn=<DivBackward0>)\n",
            "tensor([8.0532], grad_fn=<ViewBackward0>) tensor([5.])\n",
            "9.322186470031738\n",
            "Training batch 12 last loss: 9.322186470031738\n",
            "tensor([[-6.5519,  6.6049, -7.1311,  6.7895, -4.7331,  6.1911,  6.4637, -6.2356,\n",
            "          5.6051, -5.1675]], grad_fn=<DivBackward0>)\n",
            "tensor([6.9105], grad_fn=<ViewBackward0>) tensor([6.])\n",
            "0.8289625644683838\n"
          ]
        }
      ]
    },
    {
      "cell_type": "code",
      "source": [],
      "metadata": {
        "id": "n9mQ0Ex0n4A8"
      },
      "id": "n9mQ0Ex0n4A8",
      "execution_count": null,
      "outputs": []
    }
  ],
  "metadata": {
    "colab": {
      "provenance": []
    },
    "kernelspec": {
      "display_name": "Python 3 (ipykernel)",
      "language": "python",
      "name": "python3"
    },
    "language_info": {
      "codemirror_mode": {
        "name": "ipython",
        "version": 3
      },
      "file_extension": ".py",
      "mimetype": "text/x-python",
      "name": "python",
      "nbconvert_exporter": "python",
      "pygments_lexer": "ipython3",
      "version": "3.11.8"
    }
  },
  "nbformat": 4,
  "nbformat_minor": 5
}
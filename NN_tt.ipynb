{
 "cells": [
  {
   "cell_type": "code",
   "execution_count": 68,
   "id": "65cce2a1-47b3-456f-b50f-71c01f7cb42d",
   "metadata": {},
   "outputs": [],
   "source": [
    "import pandas as pd\n",
    "\n",
    "from sklearn.linear_model import LinearRegression\n",
    "from sklearn.model_selection import train_test_split\n",
    "import sklearn.metrics as metrics\n",
    "from sklearn import preprocessing\n",
    "\n",
    "import re\n",
    "import numpy as np\n",
    "import transformers as transform\n",
    "import torch\n",
    "\n",
    "from torch.utils.data import DataLoader, TensorDataset"
   ]
  },
  {
   "cell_type": "code",
   "execution_count": 69,
   "id": "28976c2e-383f-485b-9d72-c4f07f74fb61",
   "metadata": {},
   "outputs": [],
   "source": [
    "from sklearn.preprocessing import normalize"
   ]
  },
  {
   "cell_type": "code",
   "execution_count": 70,
   "id": "018a8b2a-821b-4fba-aeda-c5108ebd4162",
   "metadata": {},
   "outputs": [],
   "source": [
    "class Bert_Regression:\n",
    "\n",
    "    model_class = transform.BertModel\n",
    "    tokenizer_class = transform.BertTokenizer\n",
    "    pretrained_weights = 'bert-base-uncased'\n",
    "    tokenizer = 0\n",
    "    model = 0\n",
    "\n",
    "    def initilize_tokenizer(self):\n",
    "        self.tokenizer = self.tokenizer_class.from_pretrained(self.pretrained_weights)\n",
    "        return self.tokenizer\n",
    "\n",
    "    def initilize_model(self):\n",
    "        self.model = self.model_class.from_pretrained(self.pretrained_weights)\n",
    "        return self.model\n",
    "\n",
    "    def clear_model_and_tokenizer(self):\n",
    "        self.tokenizer = None\n",
    "        self.model = None\n",
    "\n",
    "    def get_reviewer_data(self, reviewer_names):\n",
    "\n",
    "        reviewer_ids = pd.DataFrame(columns=['ids'])\n",
    "        reviewer_ratings = pd.DataFrame(columns=['ratings'])\n",
    "\n",
    "        reviewer_file_ids = ['scaledata/'+reviewer_name+'/id.'+reviewer_name for reviewer_name in reviewer_names]\n",
    "        reviewer_file_ratings = ['scaledata/'+reviewer_name+'/rating.'+reviewer_name for reviewer_name in reviewer_names]\n",
    "        reviews_folder = ['scale_whole_review/'+reviewer_name+'/txt.parag' for reviewer_name in reviewer_names]\n",
    "\n",
    "        count = 0\n",
    "        \n",
    "        for reviewer_id in reviewer_file_ids:\n",
    "            \n",
    "            id_rating = pd.read_csv(reviewer_id, names = ['ids'])\n",
    "            id_rating['full_review'] = ''\n",
    "            \n",
    "            for id in id_rating['ids']:\n",
    "                path = reviews_folder[count]+'/'+str(id)+'.txt'\n",
    "                f = open(path, 'r', encoding='cp1252')\n",
    "                text = f.read()\n",
    "                text = re.sub(r'[^\\w]', ' ', text)\n",
    "                text = re.sub(\"\\d+\", \"\", text)\n",
    "                text = text.lower()\n",
    "                id_rating.loc[id_rating['ids'] == id, 'full_review'] = text\n",
    "                # id_rating.loc[id == dennis_fulls, 'full_review'] = text\n",
    "                # print(id_rating)\n",
    "                f.close()\n",
    "                # print(path)\n",
    "                \n",
    "            reviewer_ids = pd.concat([reviewer_ids, id_rating], axis=0)\n",
    "            count = count + 1\n",
    "        \n",
    "        for reviewer_rating in reviewer_file_ratings:\n",
    "            # print(reviewer_id)\n",
    "            id_rating = pd.read_csv(reviewer_rating, names = ['ratings'])#.round()\n",
    "            \n",
    "            reviewer_ratings = pd.concat([reviewer_ratings, id_rating], axis=0)\n",
    "            # print(reviewer_ratings)\n",
    "            \n",
    "\n",
    "        reviewer_ids.reset_index(drop=True, inplace=True)\n",
    "        reviewer_ratings.reset_index(drop=True, inplace=True)\n",
    "\n",
    "        reviewer_data = pd.concat([reviewer_ids, reviewer_ratings], axis=1)\n",
    "\n",
    "\n",
    "        return reviewer_data\n",
    "    \n",
    "    def align_data(self, tokenized):\n",
    "        max_length = max([len(i) for i in tokenized])\n",
    "        \n",
    "        features = pd.DataFrame(columns=range(max_length))\n",
    "        \n",
    "        for i in range(len(tokenized)):\n",
    "            # features = features.append(pd.DataFrame(dennis_full['tokenized_sentences'][i]).transpose())\n",
    "            features = pd.concat([features, pd.DataFrame(tokenized[i]).transpose()])\n",
    "            # features = features.shift(-1)\n",
    "            # features.iloc[-1, :] = features.append(pd.DataFrame(dennis_full['tokenized_sentences'][i]).transpose())\n",
    "        features.reset_index(drop=True, inplace=True)\n",
    "\n",
    "        return features\n",
    "                "
   ]
  },
  {
   "cell_type": "code",
   "execution_count": 71,
   "id": "201bc21d-a580-45f0-b587-7272a5c72a2a",
   "metadata": {},
   "outputs": [],
   "source": [
    "class TextClassificationModel(torch.nn.Module):\n",
    "    def __init__(self):\n",
    "        super(TextClassificationModel, self).__init__()\n",
    "        self.dropout = torch.nn.Dropout(p=0.2)\n",
    "        self.linear1 = torch.nn.Linear(3210,1500)\n",
    "        self.ReLu = torch.nn.ReLU()\n",
    "        self.linear2 = torch.nn.Linear(1500,9)\n",
    "        self.linear3 = torch.nn.Linear(9, 1)\n",
    "\n",
    "    def forward(self, x):\n",
    "        x = self.dropout(x)\n",
    "        x = self.linear1(x)\n",
    "        x = self.ReLu(x)\n",
    "        x = self.linear2(x)\n",
    "        x = self.linear3(x)\n",
    "        \n",
    "        return x"
   ]
  },
  {
   "cell_type": "code",
   "execution_count": 72,
   "id": "9a2b18fb-51b5-4ecd-9a33-67e852d89f55",
   "metadata": {},
   "outputs": [],
   "source": [
    "#Training dataset\n",
    "x = Bert_Regression()\n",
    "reviewers_data = x.get_reviewer_data(['Dennis+Schwartz'])\n",
    "#James+Berardinelli Dennis+Schwartz Scott+Renshaw\n",
    "tokenizer = x.initilize_tokenizer()\n",
    "reviewers_data['tokenized_data'] = reviewers_data['full_review'].apply((lambda x: tokenizer.encode(x, add_special_tokens=True, padding='max_length', max_length=3210)))\n",
    "tokens = torch.nn.functional.normalize(torch.tensor(reviewers_data['tokenized_data'], dtype=torch.float32))\n",
    "ratings = torch.unsqueeze(torch.tensor(reviewers_data['ratings'], dtype=torch.float32), dim=1)\n",
    "tokens, ratings\n",
    "tensor_dataset = TensorDataset(tokens, ratings)\n",
    "data_loader = DataLoader(tensor_dataset, batch_size=1, shuffle=True)"
   ]
  },
  {
   "cell_type": "code",
   "execution_count": 73,
   "id": "2719b9fb-9775-460e-a3ad-1fc5c1f9d68b",
   "metadata": {},
   "outputs": [],
   "source": [
    "#Test dataset\n",
    "x_test = Bert_Regression()\n",
    "reviewers_data_test = x_test.get_reviewer_data(['Scott+Renshaw'])\n",
    "tokenizer = x_test.initilize_tokenizer()\n",
    "reviewers_data_test['tokenized_data'] = reviewers_data_test['full_review'].apply((lambda x: tokenizer.encode(x, add_special_tokens=True, padding='max_length', max_length=3210)))\n",
    "tokens_test = torch.nn.functional.normalize(torch.tensor(reviewers_data_test['tokenized_data'], dtype=torch.float32))\n",
    "ratings_test = torch.unsqueeze(torch.tensor(reviewers_data_test['ratings'], dtype=torch.float32), dim=1)\n",
    "tokens_test, ratings_test\n",
    "tensor_dataset_test = TensorDataset(tokens_test, ratings_test)\n",
    "test_loader_pt = DataLoader(tensor_dataset_test, batch_size=1, shuffle=True)"
   ]
  },
  {
   "cell_type": "code",
   "execution_count": 74,
   "id": "02ca6a73-c445-4ca1-b80b-55d7f91e0438",
   "metadata": {},
   "outputs": [
    {
     "name": "stdout",
     "output_type": "stream",
     "text": [
      "tensor([[0.0005, 0.0224, 0.0125,  ..., 0.0000, 0.0000, 0.0000]]) tensor([[0.8000]])\n"
     ]
    }
   ],
   "source": [
    "for x, y in test_loader_pt:\n",
    "    print(x, y)\n",
    "    break"
   ]
  },
  {
   "cell_type": "code",
   "execution_count": 75,
   "id": "0c43f352-97a6-4278-a113-454d30fa8673",
   "metadata": {
    "scrolled": true
   },
   "outputs": [
    {
     "name": "stdout",
     "output_type": "stream",
     "text": [
      "tensor([[0.0005, 0.0122, 0.0240,  ..., 0.0000, 0.0000, 0.0000]]) tensor([[0.2000]])\n"
     ]
    }
   ],
   "source": [
    "for x, y in data_loader:\n",
    "    print(x, y)\n",
    "    break"
   ]
  },
  {
   "cell_type": "code",
   "execution_count": 76,
   "id": "d6d9861a-e04f-4d30-b4dc-4ea0e4af3e16",
   "metadata": {},
   "outputs": [
    {
     "name": "stdout",
     "output_type": "stream",
     "text": [
      "TextClassificationModel(\n",
      "  (dropout): Dropout(p=0.2, inplace=False)\n",
      "  (linear1): Linear(in_features=3210, out_features=1500, bias=True)\n",
      "  (ReLu): ReLU()\n",
      "  (linear2): Linear(in_features=1500, out_features=9, bias=True)\n",
      "  (linear3): Linear(in_features=9, out_features=1, bias=True)\n",
      ")\n"
     ]
    }
   ],
   "source": [
    "model = TextClassificationModel()\n",
    "print(model)"
   ]
  },
  {
   "cell_type": "code",
   "execution_count": 77,
   "id": "64c96457-dfc6-464c-9cf8-1982e2fed488",
   "metadata": {},
   "outputs": [
    {
     "name": "stdout",
     "output_type": "stream",
     "text": [
      "tensor([[0.0005, 0.0092, 0.0098,  ..., 0.0000, 0.0000, 0.0000]])\n",
      "tensor([[[0.6000]]])\n"
     ]
    }
   ],
   "source": [
    "for X, y in data_loader:\n",
    "    print(X)\n",
    "    print(torch.unsqueeze(y, dim=1))\n",
    "    break"
   ]
  },
  {
   "cell_type": "code",
   "execution_count": 143,
   "id": "a8128d90-47bd-41e2-a25f-1305f4a3f029",
   "metadata": {},
   "outputs": [
    {
     "data": {
      "text/plain": [
       "1027"
      ]
     },
     "execution_count": 143,
     "metadata": {},
     "output_type": "execute_result"
    }
   ],
   "source": [
    "len(data_loader)"
   ]
  },
  {
   "cell_type": "code",
   "execution_count": 144,
   "id": "ae7412ff-727e-4c7a-949b-853fb9a9fb38",
   "metadata": {},
   "outputs": [
    {
     "data": {
      "text/plain": [
       "27.33661734918644"
      ]
     },
     "execution_count": 144,
     "metadata": {},
     "output_type": "execute_result"
    }
   ],
   "source": [
    "train_loss"
   ]
  },
  {
   "cell_type": "code",
   "execution_count": null,
   "id": "e280ede3-27cf-4a8a-9394-cd710ea93065",
   "metadata": {},
   "outputs": [],
   "source": []
  }
 ],
 "metadata": {
  "kernelspec": {
   "display_name": "Python 3 (ipykernel)",
   "language": "python",
   "name": "python3"
  },
  "language_info": {
   "codemirror_mode": {
    "name": "ipython",
    "version": 3
   },
   "file_extension": ".py",
   "mimetype": "text/x-python",
   "name": "python",
   "nbconvert_exporter": "python",
   "pygments_lexer": "ipython3",
   "version": "3.11.8"
  }
 },
 "nbformat": 4,
 "nbformat_minor": 5
}
